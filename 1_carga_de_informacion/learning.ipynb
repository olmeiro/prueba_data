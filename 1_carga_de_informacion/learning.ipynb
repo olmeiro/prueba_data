{
 "cells": [
  {
   "cell_type": "code",
   "execution_count": 2,
   "id": "941c4dcc-4561-45a0-ad5b-4c6349fdcb9b",
   "metadata": {},
   "outputs": [
    {
     "name": "stderr",
     "output_type": "stream",
     "text": [
      "C:\\Users\\GTX\\AppData\\Local\\Temp\\ipykernel_13436\\3366554087.py:4: DeprecationWarning: \n",
      "Pyarrow will become a required dependency of pandas in the next major release of pandas (pandas 3.0),\n",
      "(to allow more performant data types, such as the Arrow string type, and better interoperability with other libraries)\n",
      "but was not found to be installed on your system.\n",
      "If this would cause problems for you,\n",
      "please provide us feedback at https://github.com/pandas-dev/pandas/issues/54466\n",
      "        \n",
      "  import pandas as pd\n"
     ]
    }
   ],
   "source": [
    "# Prueba De Conocimiento.\n",
    "\n",
    "#Cargamos las respectivas librerias necesarias\n",
    "import pandas as pd\n",
    "\n",
    "#Realizamos la carga de datos en una lista:\n",
    "data = []\n",
    "\n",
    "current_agent = None\n",
    "\n",
    "with open('OFEI1204.txt', 'r', encoding='utf-8') as file:\n",
    "    for line in file:\n",
    "        line = line.strip()\n",
    "\n",
    "        if not line:\n",
    "            continue\n",
    "\n",
    "        if line.startswith(\"AGENTE:\"):\n",
    "            current_agent = line.split(\":\")[1].strip()\n",
    "            continue\n",
    "\n",
    "        values = line.split(',')\n",
    "        file = [current_agent] + [value.strip() for value in values]\n",
    "        data.append(file)\n",
    "\n",
    "columnsData = ['Agente', 'Planta', 'Tipo'] + [f'Hora_{i}' for i in range(1,25)]\n",
    "\n",
    "df = pd.DataFrame(data, columns=columnsData)\n",
    "\n",
    "df = df.iloc[1:]\n",
    "\n",
    "df = df[df['Tipo'] == 'D']\n",
    "df = df.drop('Tipo', axis=1)\n",
    "\n",
    "df.to_csv('OFEI1204_clean.txt', index=False, sep=\";\")"
   ]
  },
  {
   "cell_type": "code",
   "execution_count": null,
   "id": "c68c7b78-9261-4463-abc6-292d8f6d14bf",
   "metadata": {},
   "outputs": [],
   "source": []
  }
 ],
 "metadata": {
  "kernelspec": {
   "display_name": "Python 3 (ipykernel)",
   "language": "python",
   "name": "python3"
  },
  "language_info": {
   "codemirror_mode": {
    "name": "ipython",
    "version": 3
   },
   "file_extension": ".py",
   "mimetype": "text/x-python",
   "name": "python",
   "nbconvert_exporter": "python",
   "pygments_lexer": "ipython3",
   "version": "3.12.1"
  }
 },
 "nbformat": 4,
 "nbformat_minor": 5
}
